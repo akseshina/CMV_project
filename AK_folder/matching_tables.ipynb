{
 "cells": [
  {
   "cell_type": "code",
   "execution_count": null,
   "metadata": {},
   "outputs": [],
   "source": [
    "with.open('~/CMV_project/aryuna/cmv_assotiated_164.csv', newline='') as csvfile:\n",
    "    associated = csv.reader(csvfile, delimiter=' ', quotechar='\"')\n",
    "    with.open('~/data/cmv/HIP13489.tsv', newline='') as csvfile2:\n",
    "        positive = csv.reader(csvfile2, delimiter=' ', quotechar='\"')\n",
    "        for i in \n",
    "        "
   ]
  }
 ],
 "metadata": {
  "kernelspec": {
   "display_name": "Python 3",
   "language": "python",
   "name": "python3"
  },
  "language_info": {
   "codemirror_mode": {
    "name": "ipython",
    "version": 3
   },
   "file_extension": ".py",
   "mimetype": "text/x-python",
   "name": "python",
   "nbconvert_exporter": "python",
   "pygments_lexer": "ipython3",
   "version": "3.7.1"
  }
 },
 "nbformat": 4,
 "nbformat_minor": 2
}
