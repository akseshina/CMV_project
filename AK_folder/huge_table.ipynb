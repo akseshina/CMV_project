{
 "cells": [
  {
   "cell_type": "code",
   "execution_count": null,
   "metadata": {},
   "outputs": [],
   "source": [
    "setwd(\"/home/nazarov_group/CMV_project/cmv\")\n",
    "folder = \"/home/nazarov_group/data/cmv\"\n",
    "file_list = list.files(path = folder, pattern=\"HIP*\")\n",
    "for (i in 1:length(file_list)){\n",
    " \n",
    "  assign(file_list[i], \n",
    " \n",
    "  read.csv(file_list[i], header = T, sep=','))\n",
    " \n",
    "}"
   ]
  }
 ],
 "metadata": {
  "kernelspec": {
   "display_name": "R",
   "language": "R",
   "name": "ir"
  },
  "language_info": {
   "codemirror_mode": "r",
   "file_extension": ".r",
   "mimetype": "text/x-r-source",
   "name": "R",
   "pygments_lexer": "r",
   "version": "3.5.1"
  }
 },
 "nbformat": 4,
 "nbformat_minor": 2
}
