{
 "cells": [
  {
   "cell_type": "code",
   "execution_count": 1,
   "metadata": {},
   "outputs": [],
   "source": [
    "import pandas as pd"
   ]
  },
  {
   "cell_type": "code",
   "execution_count": 14,
   "metadata": {},
   "outputs": [
    {
     "data": {
      "text/html": [
       "<div>\n",
       "<style scoped>\n",
       "    .dataframe tbody tr th:only-of-type {\n",
       "        vertical-align: middle;\n",
       "    }\n",
       "\n",
       "    .dataframe tbody tr th {\n",
       "        vertical-align: top;\n",
       "    }\n",
       "\n",
       "    .dataframe thead th {\n",
       "        text-align: right;\n",
       "    }\n",
       "</style>\n",
       "<table border=\"1\" class=\"dataframe\">\n",
       "  <thead>\n",
       "    <tr style=\"text-align: right;\">\n",
       "      <th></th>\n",
       "      <th>rearrangement</th>\n",
       "      <th>amino_acid</th>\n",
       "      <th>templates</th>\n",
       "      <th>reads</th>\n",
       "      <th>v_gene</th>\n",
       "      <th>j_gene</th>\n",
       "      <th>v_family</th>\n",
       "      <th>j_family</th>\n",
       "      <th>v_index</th>\n",
       "    </tr>\n",
       "  </thead>\n",
       "  <tbody>\n",
       "    <tr>\n",
       "      <th>0</th>\n",
       "      <td>GATGGATCCATCTCCACTCTGACGATCCAGCGCACAGAGCAGCGGG...</td>\n",
       "      <td>GASSFS</td>\n",
       "      <td>NaN</td>\n",
       "      <td>2</td>\n",
       "      <td>BV07-06</td>\n",
       "      <td>BJ02-07</td>\n",
       "      <td>BV07</td>\n",
       "      <td>BJ02</td>\n",
       "      <td>63</td>\n",
       "    </tr>\n",
       "    <tr>\n",
       "      <th>1</th>\n",
       "      <td>ACTCTGACAGTGACCAGTGCCCATCCTGAAGACAGCAGCTTCTACA...</td>\n",
       "      <td>CSAKDYTEAFF</td>\n",
       "      <td>NaN</td>\n",
       "      <td>6</td>\n",
       "      <td>BV20-01</td>\n",
       "      <td>BJ01-01</td>\n",
       "      <td>BV20</td>\n",
       "      <td>BJ01</td>\n",
       "      <td>48</td>\n",
       "    </tr>\n",
       "    <tr>\n",
       "      <th>2</th>\n",
       "      <td>ACTCTGACGATCCAGCGCACACAGCAGGAGGACTCGGCCGTGTATC...</td>\n",
       "      <td>CASSFYNEQFF</td>\n",
       "      <td>NaN</td>\n",
       "      <td>26</td>\n",
       "      <td>BV07-02</td>\n",
       "      <td>BJ02-01</td>\n",
       "      <td>BV07</td>\n",
       "      <td>BJ02</td>\n",
       "      <td>48</td>\n",
       "    </tr>\n",
       "    <tr>\n",
       "      <th>3</th>\n",
       "      <td>ACTCTGAAGGTGCAGCCTGCAGAACTGGAGGATTCTGGAGTTTATT...</td>\n",
       "      <td>CASSQNNEQFF</td>\n",
       "      <td>NaN</td>\n",
       "      <td>26</td>\n",
       "      <td>BV14-01</td>\n",
       "      <td>BJ02-01</td>\n",
       "      <td>BV14</td>\n",
       "      <td>BJ02</td>\n",
       "      <td>48</td>\n",
       "    </tr>\n",
       "    <tr>\n",
       "      <th>4</th>\n",
       "      <td>GAGGATTTCCCGCTCAGGCTGCTGTCGGCTGCTCCCTCCCAGACAT...</td>\n",
       "      <td>CANPELFF</td>\n",
       "      <td>NaN</td>\n",
       "      <td>15</td>\n",
       "      <td>BV06-05</td>\n",
       "      <td>BJ02-02</td>\n",
       "      <td>BV06</td>\n",
       "      <td>BJ02</td>\n",
       "      <td>57</td>\n",
       "    </tr>\n",
       "  </tbody>\n",
       "</table>\n",
       "</div>"
      ],
      "text/plain": [
       "                                       rearrangement   amino_acid  templates  \\\n",
       "0  GATGGATCCATCTCCACTCTGACGATCCAGCGCACAGAGCAGCGGG...       GASSFS        NaN   \n",
       "1  ACTCTGACAGTGACCAGTGCCCATCCTGAAGACAGCAGCTTCTACA...  CSAKDYTEAFF        NaN   \n",
       "2  ACTCTGACGATCCAGCGCACACAGCAGGAGGACTCGGCCGTGTATC...  CASSFYNEQFF        NaN   \n",
       "3  ACTCTGAAGGTGCAGCCTGCAGAACTGGAGGATTCTGGAGTTTATT...  CASSQNNEQFF        NaN   \n",
       "4  GAGGATTTCCCGCTCAGGCTGCTGTCGGCTGCTCCCTCCCAGACAT...     CANPELFF        NaN   \n",
       "\n",
       "   reads   v_gene   j_gene v_family j_family  v_index  \n",
       "0      2  BV07-06  BJ02-07     BV07     BJ02       63  \n",
       "1      6  BV20-01  BJ01-01     BV20     BJ01       48  \n",
       "2     26  BV07-02  BJ02-01     BV07     BJ02       48  \n",
       "3     26  BV14-01  BJ02-01     BV14     BJ02       48  \n",
       "4     15  BV06-05  BJ02-02     BV06     BJ02       57  "
      ]
     },
     "execution_count": 14,
     "metadata": {},
     "output_type": "execute_result"
    }
   ],
   "source": [
    "sample = 'HIP13276.tsv'\n",
    "df = pd.read_csv('~/data/cmv/{}'.format(sample))\n",
    "df.head()"
   ]
  },
  {
   "cell_type": "code",
   "execution_count": 15,
   "metadata": {},
   "outputs": [
    {
     "data": {
      "text/html": [
       "<div>\n",
       "<style scoped>\n",
       "    .dataframe tbody tr th:only-of-type {\n",
       "        vertical-align: middle;\n",
       "    }\n",
       "\n",
       "    .dataframe tbody tr th {\n",
       "        vertical-align: top;\n",
       "    }\n",
       "\n",
       "    .dataframe thead th {\n",
       "        text-align: right;\n",
       "    }\n",
       "</style>\n",
       "<table border=\"1\" class=\"dataframe\">\n",
       "  <thead>\n",
       "    <tr style=\"text-align: right;\">\n",
       "      <th></th>\n",
       "      <th>count</th>\n",
       "      <th>frequency</th>\n",
       "      <th>CDR3nt</th>\n",
       "      <th>CDR3aa</th>\n",
       "      <th>V</th>\n",
       "      <th>D</th>\n",
       "      <th>J</th>\n",
       "    </tr>\n",
       "  </thead>\n",
       "  <tbody>\n",
       "  </tbody>\n",
       "</table>\n",
       "</div>"
      ],
      "text/plain": [
       "Empty DataFrame\n",
       "Columns: [count, frequency, CDR3nt, CDR3aa, V, D, J]\n",
       "Index: []"
      ]
     },
     "execution_count": 15,
     "metadata": {},
     "output_type": "execute_result"
    }
   ],
   "source": [
    "columns = ['count', 'frequency', 'CDR3nt', 'CDR3aa', 'V', 'D', 'J']\n",
    "\n",
    "new_df = pd.DataFrame(columns=columns)\n",
    "new_df"
   ]
  },
  {
   "cell_type": "code",
   "execution_count": 16,
   "metadata": {},
   "outputs": [],
   "source": [
    "if df['templates'].sum() < 1:\n",
    "    new_df['count'] = df['reads']\n",
    "else:\n",
    "    new_df['count'] = df['templates']\n",
    "\n",
    "new_df['frequency'] = new_df['count'] / new_df['count'].sum()\n",
    "\n",
    "new_df['CDR3nt'] = df['rearrangement']\n",
    "new_df['CDR3aa'] = df['amino_acid']\n",
    "new_df['V'] = df['v_gene']\n",
    "new_df['D'] = 'TRBD1'\n",
    "new_df['J'] = df['j_gene']"
   ]
  },
  {
   "cell_type": "code",
   "execution_count": 17,
   "metadata": {},
   "outputs": [
    {
     "data": {
      "text/html": [
       "<div>\n",
       "<style scoped>\n",
       "    .dataframe tbody tr th:only-of-type {\n",
       "        vertical-align: middle;\n",
       "    }\n",
       "\n",
       "    .dataframe tbody tr th {\n",
       "        vertical-align: top;\n",
       "    }\n",
       "\n",
       "    .dataframe thead th {\n",
       "        text-align: right;\n",
       "    }\n",
       "</style>\n",
       "<table border=\"1\" class=\"dataframe\">\n",
       "  <thead>\n",
       "    <tr style=\"text-align: right;\">\n",
       "      <th></th>\n",
       "      <th>count</th>\n",
       "      <th>frequency</th>\n",
       "      <th>CDR3nt</th>\n",
       "      <th>CDR3aa</th>\n",
       "      <th>V</th>\n",
       "      <th>D</th>\n",
       "      <th>J</th>\n",
       "    </tr>\n",
       "  </thead>\n",
       "  <tbody>\n",
       "    <tr>\n",
       "      <th>0</th>\n",
       "      <td>2</td>\n",
       "      <td>0.000001</td>\n",
       "      <td>GATGGATCCATCTCCACTCTGACGATCCAGCGCACAGAGCAGCGGG...</td>\n",
       "      <td>GASSFS</td>\n",
       "      <td>BV07-06</td>\n",
       "      <td>TRBD1</td>\n",
       "      <td>BJ02-07</td>\n",
       "    </tr>\n",
       "    <tr>\n",
       "      <th>1</th>\n",
       "      <td>6</td>\n",
       "      <td>0.000003</td>\n",
       "      <td>ACTCTGACAGTGACCAGTGCCCATCCTGAAGACAGCAGCTTCTACA...</td>\n",
       "      <td>CSAKDYTEAFF</td>\n",
       "      <td>BV20-01</td>\n",
       "      <td>TRBD1</td>\n",
       "      <td>BJ01-01</td>\n",
       "    </tr>\n",
       "    <tr>\n",
       "      <th>2</th>\n",
       "      <td>26</td>\n",
       "      <td>0.000015</td>\n",
       "      <td>ACTCTGACGATCCAGCGCACACAGCAGGAGGACTCGGCCGTGTATC...</td>\n",
       "      <td>CASSFYNEQFF</td>\n",
       "      <td>BV07-02</td>\n",
       "      <td>TRBD1</td>\n",
       "      <td>BJ02-01</td>\n",
       "    </tr>\n",
       "    <tr>\n",
       "      <th>3</th>\n",
       "      <td>26</td>\n",
       "      <td>0.000015</td>\n",
       "      <td>ACTCTGAAGGTGCAGCCTGCAGAACTGGAGGATTCTGGAGTTTATT...</td>\n",
       "      <td>CASSQNNEQFF</td>\n",
       "      <td>BV14-01</td>\n",
       "      <td>TRBD1</td>\n",
       "      <td>BJ02-01</td>\n",
       "    </tr>\n",
       "    <tr>\n",
       "      <th>4</th>\n",
       "      <td>15</td>\n",
       "      <td>0.000008</td>\n",
       "      <td>GAGGATTTCCCGCTCAGGCTGCTGTCGGCTGCTCCCTCCCAGACAT...</td>\n",
       "      <td>CANPELFF</td>\n",
       "      <td>BV06-05</td>\n",
       "      <td>TRBD1</td>\n",
       "      <td>BJ02-02</td>\n",
       "    </tr>\n",
       "  </tbody>\n",
       "</table>\n",
       "</div>"
      ],
      "text/plain": [
       "   count  frequency                                             CDR3nt  \\\n",
       "0      2   0.000001  GATGGATCCATCTCCACTCTGACGATCCAGCGCACAGAGCAGCGGG...   \n",
       "1      6   0.000003  ACTCTGACAGTGACCAGTGCCCATCCTGAAGACAGCAGCTTCTACA...   \n",
       "2     26   0.000015  ACTCTGACGATCCAGCGCACACAGCAGGAGGACTCGGCCGTGTATC...   \n",
       "3     26   0.000015  ACTCTGAAGGTGCAGCCTGCAGAACTGGAGGATTCTGGAGTTTATT...   \n",
       "4     15   0.000008  GAGGATTTCCCGCTCAGGCTGCTGTCGGCTGCTCCCTCCCAGACAT...   \n",
       "\n",
       "        CDR3aa        V      D        J  \n",
       "0       GASSFS  BV07-06  TRBD1  BJ02-07  \n",
       "1  CSAKDYTEAFF  BV20-01  TRBD1  BJ01-01  \n",
       "2  CASSFYNEQFF  BV07-02  TRBD1  BJ02-01  \n",
       "3  CASSQNNEQFF  BV14-01  TRBD1  BJ02-01  \n",
       "4     CANPELFF  BV06-05  TRBD1  BJ02-02  "
      ]
     },
     "execution_count": 17,
     "metadata": {},
     "output_type": "execute_result"
    }
   ],
   "source": [
    "new_df.head()"
   ]
  },
  {
   "cell_type": "code",
   "execution_count": null,
   "metadata": {},
   "outputs": [],
   "source": []
  },
  {
   "cell_type": "code",
   "execution_count": 30,
   "metadata": {},
   "outputs": [
    {
     "data": {
      "text/plain": [
       "786"
      ]
     },
     "execution_count": 30,
     "metadata": {},
     "output_type": "execute_result"
    }
   ],
   "source": [
    "import os\n",
    " \n",
    "files = os.listdir('../../data/cmv')\n",
    "len(files)"
   ]
  },
  {
   "cell_type": "code",
   "execution_count": 35,
   "metadata": {},
   "outputs": [
    {
     "name": "stdout",
     "output_type": "stream",
     "text": [
      "1 2 3 4 5 6 7 8 9 10 11 12 13 14 15 16 17 18 19 20 21 22 23 24 25 26 27 28 29 30 31 32 33 34 35 36 37 38 39 40 41 42 43 44 45 46 47 48 49 50 51 52 53 54 55 56 57 58 59 60 61 62 63 64 65 66 67 68 69 70 71 72 73 74 75 76 77 78 79 80 81 82 83 84 85 86 87 88 89 90 91 92 93 94 95 96 97 98 99 100 101 102 103 104 105 106 107 108 109 110 111 112 113 114 115 116 117 118 119 120 121 122 123 124 125 126 127 128 129 130 131 132 133 134 135 136 137 138 139 140 141 142 143 144 145 146 147 148 149 150 151 152 153 154 155 156 157 158 159 160 161 162 163 164 165 166 167 168 169 170 171 172 173 174 175 176 177 178 179 180 181 182 183 184 185 186 187 188 189 190 191 192 193 194 195 196 197 198 199 200 201 202 203 204 205 206 207 208 209 210 211 212 213 214 215 216 217 218 219 220 221 222 223 224 225 226 227 228 229 230 231 232 233 234 235 236 237 238 239 240 241 242 243 244 245 246 247 248 249 250 251 252 253 254 255 256 257 258 259 260 261 262 263 264 265 266 267 268 269 270 271 272 273 274 275 276 277 278 279 280 281 282 283 284 285 286 287 288 289 290 291 292 293 294 295 296 297 298 299 300 301 302 303 304 305 306 307 308 309 310 311 312 313 314 315 316 317 318 319 320 321 322 323 324 325 326 327 328 329 330 331 332 333 334 335 336 337 338 339 340 341 342 343 344 345 346 347 348 349 350 351 352 353 354 355 356 357 358 359 360 361 362 363 364 365 366 367 368 369 370 371 372 373 374 375 376 377 378 379 380 381 382 383 384 385 386 387 388 389 390 391 392 393 394 395 396 397 398 399 400 401 402 403 404 405 406 407 408 409 410 411 412 413 414 415 416 417 418 419 420 421 422 423 424 425 426 427 428 429 430 431 432 433 434 435 436 437 438 439 440 441 442 443 444 445 446 447 448 449 450 451 452 453 454 455 456 457 458 459 460 461 462 463 464 465 466 467 468 469 470 471 472 473 474 475 476 477 478 479 480 481 482 483 484 485 486 487 488 489 490 491 492 493 494 495 496 497 498 499 500 501 502 503 504 505 506 507 508 509 510 511 512 513 514 515 516 517 518 519 520 521 522 523 524 525 526 527 528 529 530 531 532 533 534 535 536 537 538 539 540 541 542 543 544 545 546 547 548 549 550 551 552 553 554 555 556 557 558 559 560 561 562 563 564 565 566 567 568 569 570 571 572 573 574 575 576 577 578 579 580 581 582 583 584 585 586 587 588 589 590 591 592 593 594 595 596 597 598 599 600 601 602 603 604 605 606 607 608 609 610 611 612 613 614 615 616 617 618 619 620 621 622 623 624 625 626 627 628 629 630 631 632 633 634 635 636 637 638 639 640 641 642 643 644 645 646 647 648 649 650 651 652 653 654 655 656 657 658 659 660 661 662 663 664 665 666 667 668 669 670 671 672 673 674 675 676 677 678 679 680 681 682 683 684 685 686 687 688 689 690 691 692 693 694 695 696 697 698 699 700 701 702 703 704 705 706 707 708 709 710 711 712 713 714 715 716 717 718 719 720 721 722 723 724 725 726 727 728 729 730 731 732 733 734 735 736 737 738 739 740 741 742 743 744 745 746 747 748 749 750 751 752 753 754 755 756 757 758 759 760 761 762 763 764 765 766 767 768 769 770 771 772 773 774 775 776 777 778 779 780 781 782 783 784 785 786 "
     ]
    }
   ],
   "source": [
    "columns = ['count', 'frequency', 'CDR3nt', 'CDR3aa', 'V', 'D', 'J']\n",
    "i = 0\n",
    "\n",
    "for sample in files:\n",
    "    df = pd.read_csv('../../data/cmv/{}'.format(sample))\n",
    "    new_df = pd.DataFrame(columns=columns)\n",
    "    \n",
    "    i += 1\n",
    "    print(i, end=' ')\n",
    "    \n",
    "    if df['templates'].sum() < 1:\n",
    "        new_df['count'] = df['reads']\n",
    "    else:\n",
    "        new_df['count'] = df['templates']\n",
    "\n",
    "    new_df['frequency'] = new_df['count'] / new_df['count'].sum()\n",
    "\n",
    "    new_df['CDR3nt'] = df['rearrangement']\n",
    "    new_df['CDR3aa'] = df['amino_acid']\n",
    "    new_df['V'] = df['v_gene']\n",
    "    new_df['D'] = 'TRBD1'\n",
    "    new_df['J'] = df['j_gene']\n",
    "    \n",
    "    new_df.to_csv('../../data/cmv_VDJtools_format_tmp/{}'.format(sample), sep='\\t', index=False)\n",
    "    "
   ]
  },
  {
   "cell_type": "code",
   "execution_count": null,
   "metadata": {},
   "outputs": [],
   "source": []
  }
 ],
 "metadata": {
  "kernelspec": {
   "display_name": "Python 3",
   "language": "python",
   "name": "python3"
  },
  "language_info": {
   "codemirror_mode": {
    "name": "ipython",
    "version": 3
   },
   "file_extension": ".py",
   "mimetype": "text/x-python",
   "name": "python",
   "nbconvert_exporter": "python",
   "pygments_lexer": "ipython3",
   "version": "3.7.1"
  }
 },
 "nbformat": 4,
 "nbformat_minor": 2
}
