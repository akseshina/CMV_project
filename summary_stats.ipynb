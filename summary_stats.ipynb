{
 "cells": [
  {
   "cell_type": "code",
   "execution_count": 39,
   "metadata": {},
   "outputs": [
    {
     "data": {
      "text/html": [
       "<table>\n",
       "<thead><tr><th scope=col>rearrangement</th><th scope=col>amino_acid</th><th scope=col>templates</th><th scope=col>reads</th><th scope=col>v_gene</th><th scope=col>j_gene</th><th scope=col>v_family</th><th scope=col>j_family</th><th scope=col>v_index</th></tr></thead>\n",
       "<tbody>\n",
       "\t<tr><td>CCGCTCAGGCTGGAGTTGGCTGCTCCCTCCCAGACATCTGTGTACTTCTGTGCCAGCAGGAGCAATCAGCCCCAGCATTTTGGTGAT</td><td>CASRSNQPQHF                                                                            </td><td>   1                                                                                   </td><td>   50                                                                                  </td><td>BV06-06                                                                                </td><td>BJ01-05                                                                                </td><td>BV06                                                                                   </td><td>BJ01                                                                                   </td><td>48                                                                                     </td></tr>\n",
       "\t<tr><td>CCCCTGACCCTGGAGTCTGCCAGGCCCTCACATACCTCTCAGTACCTCTGTGCCAGCAGTGTCTACAATGAGCAGTTCTTCGGGCCA</td><td>CASSVYNEQFF                                                                            </td><td>   1                                                                                   </td><td>   47                                                                                  </td><td>BV25-01                                                                                </td><td>BJ02-01                                                                                </td><td>BV25                                                                                   </td><td>BJ02                                                                                   </td><td>48                                                                                     </td></tr>\n",
       "\t<tr><td>TGTACCTTGGAGATCCAGTCCACGGAGTCAGGGGACACAGCACTGTATTTCTGTGCCAGCAGCATCGGGGAGCTGTTTTTTGGAGAA</td><td>CASSIGELFF                                                                             </td><td>   1                                                                                   </td><td>   46                                                                                  </td><td>BV21-01                                                                                </td><td>BJ02-02                                                                                </td><td>BV21                                                                                   </td><td>BJ02                                                                                   </td><td>51                                                                                     </td></tr>\n",
       "\t<tr><td>CTACACACCCTGCAGCCAGAAGACTCGGCCCTGTATCTCTGCGCCAGCAGCCAACCCTCTGGGGCCAACGTCCTGACTTTCGGGGCC</td><td>CASSQPSGANVLTF                                                                         </td><td>   1                                                                                   </td><td>   44                                                                                  </td><td>BV04-03                                                                                </td><td>BJ02-06                                                                                </td><td>BV04                                                                                   </td><td>BJ02                                                                                   </td><td>39                                                                                     </td></tr>\n",
       "\t<tr><td>AGCACCTTGGAGCTGGGGGACTCGGCCCTTTATCTTTGCGCCAGCAGCCGTTGGGTTCAGGGGAACACTGAAGCTTTCTTTGGACAA</td><td>CASSRWVQGNTEAFF                                                                        </td><td>1464                                                                                   </td><td>50624                                                                                  </td><td>BV05-01                                                                                </td><td>BJ01-01                                                                                </td><td>BV05                                                                                   </td><td>BJ01                                                                                   </td><td>36                                                                                     </td></tr>\n",
       "\t<tr><td>ACCAGTGCCCATCCTGAAGACAGCAGCTTCTACATCTGCAGTGCACTACGGGACAGGGGGCTTGGTGAGACCCAGTACTTCGGGCCA</td><td>CSALRDRGLGETQYF                                                                        </td><td>1456                                                                                   </td><td>50489                                                                                  </td><td>unresolved                                                                             </td><td>BJ02-05                                                                                </td><td>BV20                                                                                   </td><td>BJ02                                                                                   </td><td>36                                                                                     </td></tr>\n",
       "</tbody>\n",
       "</table>\n"
      ],
      "text/latex": [
       "\\begin{tabular}{r|lllllllll}\n",
       " rearrangement & amino\\_acid & templates & reads & v\\_gene & j\\_gene & v\\_family & j\\_family & v\\_index\\\\\n",
       "\\hline\n",
       "\t CCGCTCAGGCTGGAGTTGGCTGCTCCCTCCCAGACATCTGTGTACTTCTGTGCCAGCAGGAGCAATCAGCCCCAGCATTTTGGTGAT & CASRSNQPQHF                                                                             &    1                                                                                    &    50                                                                                   & BV06-06                                                                                 & BJ01-05                                                                                 & BV06                                                                                    & BJ01                                                                                    & 48                                                                                     \\\\\n",
       "\t CCCCTGACCCTGGAGTCTGCCAGGCCCTCACATACCTCTCAGTACCTCTGTGCCAGCAGTGTCTACAATGAGCAGTTCTTCGGGCCA & CASSVYNEQFF                                                                             &    1                                                                                    &    47                                                                                   & BV25-01                                                                                 & BJ02-01                                                                                 & BV25                                                                                    & BJ02                                                                                    & 48                                                                                     \\\\\n",
       "\t TGTACCTTGGAGATCCAGTCCACGGAGTCAGGGGACACAGCACTGTATTTCTGTGCCAGCAGCATCGGGGAGCTGTTTTTTGGAGAA & CASSIGELFF                                                                              &    1                                                                                    &    46                                                                                   & BV21-01                                                                                 & BJ02-02                                                                                 & BV21                                                                                    & BJ02                                                                                    & 51                                                                                     \\\\\n",
       "\t CTACACACCCTGCAGCCAGAAGACTCGGCCCTGTATCTCTGCGCCAGCAGCCAACCCTCTGGGGCCAACGTCCTGACTTTCGGGGCC & CASSQPSGANVLTF                                                                          &    1                                                                                    &    44                                                                                   & BV04-03                                                                                 & BJ02-06                                                                                 & BV04                                                                                    & BJ02                                                                                    & 39                                                                                     \\\\\n",
       "\t AGCACCTTGGAGCTGGGGGACTCGGCCCTTTATCTTTGCGCCAGCAGCCGTTGGGTTCAGGGGAACACTGAAGCTTTCTTTGGACAA & CASSRWVQGNTEAFF                                                                         & 1464                                                                                    & 50624                                                                                   & BV05-01                                                                                 & BJ01-01                                                                                 & BV05                                                                                    & BJ01                                                                                    & 36                                                                                     \\\\\n",
       "\t ACCAGTGCCCATCCTGAAGACAGCAGCTTCTACATCTGCAGTGCACTACGGGACAGGGGGCTTGGTGAGACCCAGTACTTCGGGCCA & CSALRDRGLGETQYF                                                                         & 1456                                                                                    & 50489                                                                                   & unresolved                                                                              & BJ02-05                                                                                 & BV20                                                                                    & BJ02                                                                                    & 36                                                                                     \\\\\n",
       "\\end{tabular}\n"
      ],
      "text/markdown": [
       "\n",
       "rearrangement | amino_acid | templates | reads | v_gene | j_gene | v_family | j_family | v_index | \n",
       "|---|---|---|---|---|---|\n",
       "| CCGCTCAGGCTGGAGTTGGCTGCTCCCTCCCAGACATCTGTGTACTTCTGTGCCAGCAGGAGCAATCAGCCCCAGCATTTTGGTGAT | CASRSNQPQHF                                                                             |    1                                                                                    |    50                                                                                   | BV06-06                                                                                 | BJ01-05                                                                                 | BV06                                                                                    | BJ01                                                                                    | 48                                                                                      | \n",
       "| CCCCTGACCCTGGAGTCTGCCAGGCCCTCACATACCTCTCAGTACCTCTGTGCCAGCAGTGTCTACAATGAGCAGTTCTTCGGGCCA | CASSVYNEQFF                                                                             |    1                                                                                    |    47                                                                                   | BV25-01                                                                                 | BJ02-01                                                                                 | BV25                                                                                    | BJ02                                                                                    | 48                                                                                      | \n",
       "| TGTACCTTGGAGATCCAGTCCACGGAGTCAGGGGACACAGCACTGTATTTCTGTGCCAGCAGCATCGGGGAGCTGTTTTTTGGAGAA | CASSIGELFF                                                                              |    1                                                                                    |    46                                                                                   | BV21-01                                                                                 | BJ02-02                                                                                 | BV21                                                                                    | BJ02                                                                                    | 51                                                                                      | \n",
       "| CTACACACCCTGCAGCCAGAAGACTCGGCCCTGTATCTCTGCGCCAGCAGCCAACCCTCTGGGGCCAACGTCCTGACTTTCGGGGCC | CASSQPSGANVLTF                                                                          |    1                                                                                    |    44                                                                                   | BV04-03                                                                                 | BJ02-06                                                                                 | BV04                                                                                    | BJ02                                                                                    | 39                                                                                      | \n",
       "| AGCACCTTGGAGCTGGGGGACTCGGCCCTTTATCTTTGCGCCAGCAGCCGTTGGGTTCAGGGGAACACTGAAGCTTTCTTTGGACAA | CASSRWVQGNTEAFF                                                                         | 1464                                                                                    | 50624                                                                                   | BV05-01                                                                                 | BJ01-01                                                                                 | BV05                                                                                    | BJ01                                                                                    | 36                                                                                      | \n",
       "| ACCAGTGCCCATCCTGAAGACAGCAGCTTCTACATCTGCAGTGCACTACGGGACAGGGGGCTTGGTGAGACCCAGTACTTCGGGCCA | CSALRDRGLGETQYF                                                                         | 1456                                                                                    | 50489                                                                                   | unresolved                                                                              | BJ02-05                                                                                 | BV20                                                                                    | BJ02                                                                                    | 36                                                                                      | \n",
       "\n",
       "\n"
      ],
      "text/plain": [
       "  rearrangement                                                                          \n",
       "1 CCGCTCAGGCTGGAGTTGGCTGCTCCCTCCCAGACATCTGTGTACTTCTGTGCCAGCAGGAGCAATCAGCCCCAGCATTTTGGTGAT\n",
       "2 CCCCTGACCCTGGAGTCTGCCAGGCCCTCACATACCTCTCAGTACCTCTGTGCCAGCAGTGTCTACAATGAGCAGTTCTTCGGGCCA\n",
       "3 TGTACCTTGGAGATCCAGTCCACGGAGTCAGGGGACACAGCACTGTATTTCTGTGCCAGCAGCATCGGGGAGCTGTTTTTTGGAGAA\n",
       "4 CTACACACCCTGCAGCCAGAAGACTCGGCCCTGTATCTCTGCGCCAGCAGCCAACCCTCTGGGGCCAACGTCCTGACTTTCGGGGCC\n",
       "5 AGCACCTTGGAGCTGGGGGACTCGGCCCTTTATCTTTGCGCCAGCAGCCGTTGGGTTCAGGGGAACACTGAAGCTTTCTTTGGACAA\n",
       "6 ACCAGTGCCCATCCTGAAGACAGCAGCTTCTACATCTGCAGTGCACTACGGGACAGGGGGCTTGGTGAGACCCAGTACTTCGGGCCA\n",
       "  amino_acid      templates reads v_gene     j_gene  v_family j_family v_index\n",
       "1 CASRSNQPQHF        1         50 BV06-06    BJ01-05 BV06     BJ01     48     \n",
       "2 CASSVYNEQFF        1         47 BV25-01    BJ02-01 BV25     BJ02     48     \n",
       "3 CASSIGELFF         1         46 BV21-01    BJ02-02 BV21     BJ02     51     \n",
       "4 CASSQPSGANVLTF     1         44 BV04-03    BJ02-06 BV04     BJ02     39     \n",
       "5 CASSRWVQGNTEAFF 1464      50624 BV05-01    BJ01-01 BV05     BJ01     36     \n",
       "6 CSALRDRGLGETQYF 1456      50489 unresolved BJ02-05 BV20     BJ02     36     "
      ]
     },
     "metadata": {},
     "output_type": "display_data"
    },
    {
     "name": "stdout",
     "output_type": "stream",
     "text": [
      "'data.frame':\t202265 obs. of  9 variables:\n",
      " $ rearrangement: Factor w/ 202265 levels \"AAAAAACAGAATTTCCTGCTGGGGTTGGAGTCGGCTGCTCCCTCCCAAACATCTGTGTACTTCTGTGCCAGCAGGGTGAAAGGTTCG\",..: 98771 96758 196069 107851 41920 24077 73580 64713 3276 139455 ...\n",
      " $ amino_acid   : Factor w/ 184309 levels \"**GLARTDTQYF\",..: 23599 141493 49535 113726 123771 166494 116060 71553 128084 61871 ...\n",
      " $ templates    : int  1 1 1 1 1464 1456 1436 1382 1090 5 ...\n",
      " $ reads        : int  50 47 46 44 50624 50489 49896 48093 37703 168 ...\n",
      " $ v_gene       : Factor w/ 56 levels \"BV01-01\",\"BV02-01\",..: 18 50 47 7 8 56 7 29 12 5 ...\n",
      " $ j_gene       : Factor w/ 14 levels \"BJ01-01\",\"BJ01-02\",..: 5 7 8 12 1 11 13 1 13 7 ...\n",
      " $ v_family     : Factor w/ 29 levels \"\",\"BV01\",\"BV02\",..: 7 24 20 5 6 19 5 8 6 5 ...\n",
      " $ j_family     : Factor w/ 2 levels \"BJ01\",\"BJ02\": 1 2 2 2 1 2 2 1 2 2 ...\n",
      " $ v_index      : int  48 48 51 39 36 36 36 39 36 45 ...\n"
     ]
    }
   ],
   "source": [
    "library(ggplot2)\n",
    "library(tcR)\n",
    "df = read.table(\"./kmers/test_sample/HIP00602.tsv\", header = T, sep=\",\")\n",
    "head(df)\n",
    "str(df)"
   ]
  },
  {
   "cell_type": "code",
   "execution_count": 18,
   "metadata": {
    "scrolled": true
   },
   "outputs": [
    {
     "name": "stderr",
     "output_type": "stream",
     "text": [
      "also installing the dependencies ‘gridExtra’, ‘igraph’, ‘stringdist’\n",
      "\n",
      "Updating HTML index of packages in '.Library'\n",
      "Making 'packages.html' ... done\n"
     ]
    }
   ],
   "source": [
    "install.packages('tcR')"
   ]
  },
  {
   "cell_type": "code",
   "execution_count": 19,
   "metadata": {},
   "outputs": [
    {
     "name": "stderr",
     "output_type": "stream",
     "text": [
      "Loading required package: dplyr\n",
      "\n",
      "Attaching package: ‘dplyr’\n",
      "\n",
      "The following objects are masked from ‘package:stats’:\n",
      "\n",
      "    filter, lag\n",
      "\n",
      "The following objects are masked from ‘package:base’:\n",
      "\n",
      "    intersect, setdiff, setequal, union\n",
      "\n",
      "Loading required package: gridExtra\n",
      "\n",
      "Attaching package: ‘gridExtra’\n",
      "\n",
      "The following object is masked from ‘package:dplyr’:\n",
      "\n",
      "    combine\n",
      "\n",
      "Loading required package: reshape2\n",
      "Loading required package: igraph\n",
      "\n",
      "Attaching package: ‘igraph’\n",
      "\n",
      "The following objects are masked from ‘package:dplyr’:\n",
      "\n",
      "    as_data_frame, groups, union\n",
      "\n",
      "The following objects are masked from ‘package:stats’:\n",
      "\n",
      "    decompose, spectrum\n",
      "\n",
      "The following object is masked from ‘package:base’:\n",
      "\n",
      "    union\n",
      "\n",
      "\n",
      "Attaching package: ‘tcR’\n",
      "\n",
      "The following object is masked from ‘package:igraph’:\n",
      "\n",
      "    diversity\n",
      "\n"
     ]
    }
   ],
   "source": [
    "library(tcR)"
   ]
  },
  {
   "cell_type": "code",
   "execution_count": 26,
   "metadata": {},
   "outputs": [
    {
     "name": "stderr",
     "output_type": "stream",
     "text": [
      "Warning message in check.distribution(.data, .do.norm, .laplace, .warn.zero = T):\n",
      "“Warning! Sum of the input vector is NOT equal to 1. Function may produce incorrect results.\n",
      "”Note: difference between the sum of the input vector and 1 is 8.88178419700125e-16, which may be caused by internal R subroutines and may not affect the result at all.\n",
      "\n"
     ]
    },
    {
     "data": {
      "text/html": [
       "0.944016543327461"
      ],
      "text/latex": [
       "0.944016543327461"
      ],
      "text/markdown": [
       "0.944016543327461"
      ],
      "text/plain": [
       "[1] 0.9440165"
      ]
     },
     "metadata": {},
     "output_type": "display_data"
    }
   ],
   "source": [
    "entropy(df$templates, .norm = T, .do.norm = T, .laplace = 1e-12)"
   ]
  },
  {
   "cell_type": "code",
   "execution_count": null,
   "metadata": {},
   "outputs": [],
   "source": []
  },
  {
   "cell_type": "code",
   "execution_count": 29,
   "metadata": {},
   "outputs": [],
   "source": [
    "?entropy"
   ]
  },
  {
   "cell_type": "code",
   "execution_count": 73,
   "metadata": {},
   "outputs": [
    {
     "data": {
      "text/html": [
       "<table>\n",
       "<thead><tr><th scope=col>v_gene</th><th scope=col>freq</th><th scope=col>count_templates</th></tr></thead>\n",
       "<tbody>\n",
       "\t<tr><td>BV01-01    </td><td>  125      </td><td>  191      </td></tr>\n",
       "\t<tr><td>BV02-01    </td><td> 6911      </td><td>11455      </td></tr>\n",
       "\t<tr><td>BV03-01    </td><td>    1      </td><td>    1      </td></tr>\n",
       "\t<tr><td>BV03-02    </td><td>    5      </td><td>   13      </td></tr>\n",
       "\t<tr><td>BV04-01    </td><td> 3921      </td><td> 7273      </td></tr>\n",
       "\t<tr><td>BV04-02    </td><td> 4158      </td><td> 8093      </td></tr>\n",
       "\t<tr><td>BV04-03    </td><td> 5483      </td><td>12562      </td></tr>\n",
       "\t<tr><td>BV05-01    </td><td> 9842      </td><td>15525      </td></tr>\n",
       "\t<tr><td>BV05-03    </td><td>  340      </td><td>  506      </td></tr>\n",
       "\t<tr><td>BV05-04    </td><td> 4328      </td><td> 8274      </td></tr>\n",
       "\t<tr><td>BV05-05    </td><td> 1714      </td><td> 2982      </td></tr>\n",
       "\t<tr><td>BV05-06    </td><td> 3732      </td><td> 7840      </td></tr>\n",
       "\t<tr><td>BV05-07    </td><td>   37      </td><td>   53      </td></tr>\n",
       "\t<tr><td>BV05-08    </td><td> 1273      </td><td> 1874      </td></tr>\n",
       "\t<tr><td>BV06-01    </td><td> 5621      </td><td>10348      </td></tr>\n",
       "\t<tr><td>BV06-04    </td><td> 1706      </td><td> 5340      </td></tr>\n",
       "\t<tr><td>BV06-05    </td><td> 6911      </td><td>10885      </td></tr>\n",
       "\t<tr><td>BV06-06    </td><td> 3410      </td><td> 6084      </td></tr>\n",
       "\t<tr><td>BV06-07    </td><td>  109      </td><td>  163      </td></tr>\n",
       "\t<tr><td>BV06-08    </td><td>   58      </td><td>   80      </td></tr>\n",
       "\t<tr><td>BV06-09    </td><td>   54      </td><td>   77      </td></tr>\n",
       "\t<tr><td>BV07-02    </td><td>10401      </td><td>15869      </td></tr>\n",
       "\t<tr><td>BV07-03    </td><td> 3659      </td><td> 5355      </td></tr>\n",
       "\t<tr><td>BV07-04    </td><td>   63      </td><td>   83      </td></tr>\n",
       "\t<tr><td>BV07-05    </td><td>   65      </td><td>  100      </td></tr>\n",
       "\t<tr><td>BV07-06    </td><td> 2357      </td><td> 3746      </td></tr>\n",
       "\t<tr><td>BV07-07    </td><td>  933      </td><td> 1317      </td></tr>\n",
       "\t<tr><td>BV07-08    </td><td> 3354      </td><td> 4905      </td></tr>\n",
       "\t<tr><td>BV07-09    </td><td> 8675      </td><td>15384      </td></tr>\n",
       "\t<tr><td>BV09-01    </td><td> 8015      </td><td>11607      </td></tr>\n",
       "\t<tr><td>BV10-01    </td><td>  551      </td><td>  821      </td></tr>\n",
       "\t<tr><td>BV10-02    </td><td>  545      </td><td> 1207      </td></tr>\n",
       "\t<tr><td>BV10-03    </td><td> 4038      </td><td> 5964      </td></tr>\n",
       "\t<tr><td>BV11-01    </td><td> 1032      </td><td> 1583      </td></tr>\n",
       "\t<tr><td>BV11-02    </td><td> 4259      </td><td> 6971      </td></tr>\n",
       "\t<tr><td>BV11-03    </td><td> 1391      </td><td> 2173      </td></tr>\n",
       "\t<tr><td>BV12-01    </td><td>  101      </td><td>  135      </td></tr>\n",
       "\t<tr><td>BV12-02    </td><td>  161      </td><td>  214      </td></tr>\n",
       "\t<tr><td>BV12-05    </td><td>  931      </td><td> 1340      </td></tr>\n",
       "\t<tr><td>BV13-01    </td><td> 1251      </td><td> 2230      </td></tr>\n",
       "\t<tr><td>BV14-01    </td><td> 1673      </td><td> 3750      </td></tr>\n",
       "\t<tr><td>BV15-01    </td><td>  805      </td><td> 1170      </td></tr>\n",
       "\t<tr><td>BV16-01    </td><td>  162      </td><td>  283      </td></tr>\n",
       "\t<tr><td>BV18-01    </td><td> 5925      </td><td> 8253      </td></tr>\n",
       "\t<tr><td>BV19-01    </td><td>10049      </td><td>16951      </td></tr>\n",
       "\t<tr><td>BV20-01    </td><td>  719      </td><td> 1083      </td></tr>\n",
       "\t<tr><td>BV21-01    </td><td> 1531      </td><td> 3513      </td></tr>\n",
       "\t<tr><td>BV22-01    </td><td>    2      </td><td>    6      </td></tr>\n",
       "\t<tr><td>BV23-01    </td><td>  544      </td><td>  779      </td></tr>\n",
       "\t<tr><td>BV25-01    </td><td> 1930      </td><td> 4142      </td></tr>\n",
       "\t<tr><td>BV27-01    </td><td> 6380      </td><td> 9498      </td></tr>\n",
       "\t<tr><td>BV28-01    </td><td> 8087      </td><td>12916      </td></tr>\n",
       "\t<tr><td>BV29-01    </td><td> 4243      </td><td> 7060      </td></tr>\n",
       "\t<tr><td>BV30-01    </td><td> 3362      </td><td> 4928      </td></tr>\n",
       "\t<tr><td>BVA-or09_02</td><td>    4      </td><td>   17      </td></tr>\n",
       "</tbody>\n",
       "</table>\n"
      ],
      "text/latex": [
       "\\begin{tabular}{r|lll}\n",
       " v\\_gene & freq & count\\_templates\\\\\n",
       "\\hline\n",
       "\t BV01-01     &   125       &   191      \\\\\n",
       "\t BV02-01     &  6911       & 11455      \\\\\n",
       "\t BV03-01     &     1       &     1      \\\\\n",
       "\t BV03-02     &     5       &    13      \\\\\n",
       "\t BV04-01     &  3921       &  7273      \\\\\n",
       "\t BV04-02     &  4158       &  8093      \\\\\n",
       "\t BV04-03     &  5483       & 12562      \\\\\n",
       "\t BV05-01     &  9842       & 15525      \\\\\n",
       "\t BV05-03     &   340       &   506      \\\\\n",
       "\t BV05-04     &  4328       &  8274      \\\\\n",
       "\t BV05-05     &  1714       &  2982      \\\\\n",
       "\t BV05-06     &  3732       &  7840      \\\\\n",
       "\t BV05-07     &    37       &    53      \\\\\n",
       "\t BV05-08     &  1273       &  1874      \\\\\n",
       "\t BV06-01     &  5621       & 10348      \\\\\n",
       "\t BV06-04     &  1706       &  5340      \\\\\n",
       "\t BV06-05     &  6911       & 10885      \\\\\n",
       "\t BV06-06     &  3410       &  6084      \\\\\n",
       "\t BV06-07     &   109       &   163      \\\\\n",
       "\t BV06-08     &    58       &    80      \\\\\n",
       "\t BV06-09     &    54       &    77      \\\\\n",
       "\t BV07-02     & 10401       & 15869      \\\\\n",
       "\t BV07-03     &  3659       &  5355      \\\\\n",
       "\t BV07-04     &    63       &    83      \\\\\n",
       "\t BV07-05     &    65       &   100      \\\\\n",
       "\t BV07-06     &  2357       &  3746      \\\\\n",
       "\t BV07-07     &   933       &  1317      \\\\\n",
       "\t BV07-08     &  3354       &  4905      \\\\\n",
       "\t BV07-09     &  8675       & 15384      \\\\\n",
       "\t BV09-01     &  8015       & 11607      \\\\\n",
       "\t BV10-01     &   551       &   821      \\\\\n",
       "\t BV10-02     &   545       &  1207      \\\\\n",
       "\t BV10-03     &  4038       &  5964      \\\\\n",
       "\t BV11-01     &  1032       &  1583      \\\\\n",
       "\t BV11-02     &  4259       &  6971      \\\\\n",
       "\t BV11-03     &  1391       &  2173      \\\\\n",
       "\t BV12-01     &   101       &   135      \\\\\n",
       "\t BV12-02     &   161       &   214      \\\\\n",
       "\t BV12-05     &   931       &  1340      \\\\\n",
       "\t BV13-01     &  1251       &  2230      \\\\\n",
       "\t BV14-01     &  1673       &  3750      \\\\\n",
       "\t BV15-01     &   805       &  1170      \\\\\n",
       "\t BV16-01     &   162       &   283      \\\\\n",
       "\t BV18-01     &  5925       &  8253      \\\\\n",
       "\t BV19-01     & 10049       & 16951      \\\\\n",
       "\t BV20-01     &   719       &  1083      \\\\\n",
       "\t BV21-01     &  1531       &  3513      \\\\\n",
       "\t BV22-01     &     2       &     6      \\\\\n",
       "\t BV23-01     &   544       &   779      \\\\\n",
       "\t BV25-01     &  1930       &  4142      \\\\\n",
       "\t BV27-01     &  6380       &  9498      \\\\\n",
       "\t BV28-01     &  8087       & 12916      \\\\\n",
       "\t BV29-01     &  4243       &  7060      \\\\\n",
       "\t BV30-01     &  3362       &  4928      \\\\\n",
       "\t BVA-or09\\_02 &     4         &    17        \\\\\n",
       "\\end{tabular}\n"
      ],
      "text/markdown": [
       "\n",
       "v_gene | freq | count_templates | \n",
       "|---|---|---|---|---|---|---|---|---|---|---|---|---|---|---|---|---|---|---|---|---|---|---|---|---|---|---|---|---|---|---|---|---|---|---|---|---|---|---|---|---|---|---|---|---|---|---|---|---|---|---|---|---|---|---|\n",
       "| BV01-01     |   125       |   191       | \n",
       "| BV02-01     |  6911       | 11455       | \n",
       "| BV03-01     |     1       |     1       | \n",
       "| BV03-02     |     5       |    13       | \n",
       "| BV04-01     |  3921       |  7273       | \n",
       "| BV04-02     |  4158       |  8093       | \n",
       "| BV04-03     |  5483       | 12562       | \n",
       "| BV05-01     |  9842       | 15525       | \n",
       "| BV05-03     |   340       |   506       | \n",
       "| BV05-04     |  4328       |  8274       | \n",
       "| BV05-05     |  1714       |  2982       | \n",
       "| BV05-06     |  3732       |  7840       | \n",
       "| BV05-07     |    37       |    53       | \n",
       "| BV05-08     |  1273       |  1874       | \n",
       "| BV06-01     |  5621       | 10348       | \n",
       "| BV06-04     |  1706       |  5340       | \n",
       "| BV06-05     |  6911       | 10885       | \n",
       "| BV06-06     |  3410       |  6084       | \n",
       "| BV06-07     |   109       |   163       | \n",
       "| BV06-08     |    58       |    80       | \n",
       "| BV06-09     |    54       |    77       | \n",
       "| BV07-02     | 10401       | 15869       | \n",
       "| BV07-03     |  3659       |  5355       | \n",
       "| BV07-04     |    63       |    83       | \n",
       "| BV07-05     |    65       |   100       | \n",
       "| BV07-06     |  2357       |  3746       | \n",
       "| BV07-07     |   933       |  1317       | \n",
       "| BV07-08     |  3354       |  4905       | \n",
       "| BV07-09     |  8675       | 15384       | \n",
       "| BV09-01     |  8015       | 11607       | \n",
       "| BV10-01     |   551       |   821       | \n",
       "| BV10-02     |   545       |  1207       | \n",
       "| BV10-03     |  4038       |  5964       | \n",
       "| BV11-01     |  1032       |  1583       | \n",
       "| BV11-02     |  4259       |  6971       | \n",
       "| BV11-03     |  1391       |  2173       | \n",
       "| BV12-01     |   101       |   135       | \n",
       "| BV12-02     |   161       |   214       | \n",
       "| BV12-05     |   931       |  1340       | \n",
       "| BV13-01     |  1251       |  2230       | \n",
       "| BV14-01     |  1673       |  3750       | \n",
       "| BV15-01     |   805       |  1170       | \n",
       "| BV16-01     |   162       |   283       | \n",
       "| BV18-01     |  5925       |  8253       | \n",
       "| BV19-01     | 10049       | 16951       | \n",
       "| BV20-01     |   719       |  1083       | \n",
       "| BV21-01     |  1531       |  3513       | \n",
       "| BV22-01     |     2       |     6       | \n",
       "| BV23-01     |   544       |   779       | \n",
       "| BV25-01     |  1930       |  4142       | \n",
       "| BV27-01     |  6380       |  9498       | \n",
       "| BV28-01     |  8087       | 12916       | \n",
       "| BV29-01     |  4243       |  7060       | \n",
       "| BV30-01     |  3362       |  4928       | \n",
       "| BVA-or09_02 |     4       |    17       | \n",
       "\n",
       "\n"
      ],
      "text/plain": [
       "   v_gene      freq  count_templates\n",
       "1  BV01-01       125   191          \n",
       "2  BV02-01      6911 11455          \n",
       "3  BV03-01         1     1          \n",
       "4  BV03-02         5    13          \n",
       "5  BV04-01      3921  7273          \n",
       "6  BV04-02      4158  8093          \n",
       "7  BV04-03      5483 12562          \n",
       "8  BV05-01      9842 15525          \n",
       "9  BV05-03       340   506          \n",
       "10 BV05-04      4328  8274          \n",
       "11 BV05-05      1714  2982          \n",
       "12 BV05-06      3732  7840          \n",
       "13 BV05-07        37    53          \n",
       "14 BV05-08      1273  1874          \n",
       "15 BV06-01      5621 10348          \n",
       "16 BV06-04      1706  5340          \n",
       "17 BV06-05      6911 10885          \n",
       "18 BV06-06      3410  6084          \n",
       "19 BV06-07       109   163          \n",
       "20 BV06-08        58    80          \n",
       "21 BV06-09        54    77          \n",
       "22 BV07-02     10401 15869          \n",
       "23 BV07-03      3659  5355          \n",
       "24 BV07-04        63    83          \n",
       "25 BV07-05        65   100          \n",
       "26 BV07-06      2357  3746          \n",
       "27 BV07-07       933  1317          \n",
       "28 BV07-08      3354  4905          \n",
       "29 BV07-09      8675 15384          \n",
       "30 BV09-01      8015 11607          \n",
       "31 BV10-01       551   821          \n",
       "32 BV10-02       545  1207          \n",
       "33 BV10-03      4038  5964          \n",
       "34 BV11-01      1032  1583          \n",
       "35 BV11-02      4259  6971          \n",
       "36 BV11-03      1391  2173          \n",
       "37 BV12-01       101   135          \n",
       "38 BV12-02       161   214          \n",
       "39 BV12-05       931  1340          \n",
       "40 BV13-01      1251  2230          \n",
       "41 BV14-01      1673  3750          \n",
       "42 BV15-01       805  1170          \n",
       "43 BV16-01       162   283          \n",
       "44 BV18-01      5925  8253          \n",
       "45 BV19-01     10049 16951          \n",
       "46 BV20-01       719  1083          \n",
       "47 BV21-01      1531  3513          \n",
       "48 BV22-01         2     6          \n",
       "49 BV23-01       544   779          \n",
       "50 BV25-01      1930  4142          \n",
       "51 BV27-01      6380  9498          \n",
       "52 BV28-01      8087 12916          \n",
       "53 BV29-01      4243  7060          \n",
       "54 BV30-01      3362  4928          \n",
       "55 BVA-or09_02     4    17          "
      ]
     },
     "metadata": {},
     "output_type": "display_data"
    }
   ],
   "source": [
    "v_gene_count1 = count(df, 'v_gene')\n",
    "df_subs = subset(df, select = c(templates, v_gene))\n",
    "df_subs$v_gene = as.factor(df_subs$v_gene)\n",
    "v_gene_templates1 = aggregate(templates ~ v_gene, df_subs, sum)\n",
    "v_gene_templates1 = head(v_gene_templates1, -1)\n",
    "v_gene_count1 = head(v_gene_count1, -1)\n",
    "v_gene_count1$count_templates = v_gene_templates1$templates\n",
    "v_gene_count1\n",
    "#v_gene_count$finalcount = v_gene_count$freq * v_gene_count$count_templates\n"
   ]
  },
  {
   "cell_type": "code",
   "execution_count": 69,
   "metadata": {},
   "outputs": [
    {
     "data": {},
     "metadata": {},
     "output_type": "display_data"
    },
    {
     "data": {},
     "metadata": {},
     "output_type": "display_data"
    },
    {
     "data": {
      "image/png": "[encoded data removed]",
      "text/plain": [
       "plot without title"
      ]
     },
     "metadata": {},
     "output_type": "display_data"
    },
    {
     "data": {
      "image/png": "[encoded data removed]",
      "text/plain": [
       "plot without title"
      ]
     },
     "metadata": {},
     "output_type": "display_data"
    }
   ],
   "source": [
    "ggplot(v_gene_count1, aes(v_gene, freq)) +\n",
    "geom_bar(stat = 'identity')\n",
    "ggplot(v_gene_templates1, aes(v_gene, templates)) +\n",
    "geom_bar(stat = 'identity')"
   ]
  },
  {
   "cell_type": "code",
   "execution_count": 35,
   "metadata": {},
   "outputs": [
    {
     "name": "stderr",
     "output_type": "stream",
     "text": [
      "Updating HTML index of packages in '.Library'\n",
      "Making 'packages.html' ... done\n"
     ]
    }
   ],
   "source": [
    "install.packages('easycsv')"
   ]
  },
  {
   "cell_type": "code",
   "execution_count": 79,
   "metadata": {},
   "outputs": [],
   "source": [
    "library(easycsv)\n",
    "loadcsv_multi(directory = \"./kmers/test_sample\",\n",
    "                          extension = \"CSV\",\n",
    "                          encoding = \"Latin-1\",\n",
    "                          stringsAsFactors = FALSE,\n",
    "                          header = TRUE,\n",
    "                          quote = \"\\\"\",\n",
    "                          fill = TRUE,\n",
    "                          comment.char = \"\")\n"
   ]
  },
  {
   "cell_type": "code",
   "execution_count": null,
   "metadata": {
    "collapsed": true
   },
   "outputs": [],
   "source": []
  }
 ],
 "metadata": {
  "kernelspec": {
   "display_name": "R",
   "language": "R",
   "name": "ir"
  },
  "language_info": {
   "codemirror_mode": "r",
   "file_extension": ".r",
   "mimetype": "text/x-r-source",
   "name": "R",
   "pygments_lexer": "r",
   "version": "3.5.1"
  }
 },
 "nbformat": 4,
 "nbformat_minor": 2
}
